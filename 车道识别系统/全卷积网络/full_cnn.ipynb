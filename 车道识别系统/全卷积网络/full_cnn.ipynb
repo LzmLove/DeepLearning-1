{
 "cells": [
  {
   "cell_type": "code",
   "execution_count": 1,
   "metadata": {},
   "outputs": [
    {
     "name": "stderr",
     "output_type": "stream",
     "text": [
      "/home/datah/anaconda3/lib/python3.6/site-packages/h5py/__init__.py:34: FutureWarning: Conversion of the second argument of issubdtype from `float` to `np.floating` is deprecated. In future, it will be treated as `np.float64 == np.dtype(float).type`.\n",
      "  from ._conv import register_converters as _register_converters\n",
      "Using TensorFlow backend.\n"
     ]
    }
   ],
   "source": [
    "import numpy as np\n",
    "import pickle\n",
    "from sklearn.utils import shuffle\n",
    "from sklearn.model_selection import train_test_split\n",
    "\n",
    "# Import necessary items from Keras\n",
    "from keras.models import Sequential\n",
    "from keras.layers import Activation, Dropout, UpSampling2D\n",
    "from keras.layers import Conv2DTranspose, Conv2D, MaxPooling2D\n",
    "from keras.layers.normalization import BatchNormalization\n",
    "from keras.preprocessing.image import ImageDataGenerator\n",
    "from keras import regularizers"
   ]
  },
  {
   "cell_type": "markdown",
   "metadata": {},
   "source": [
    "## 1. 数据加载"
   ]
  },
  {
   "cell_type": "markdown",
   "metadata": {},
   "source": [
    "### 数据1"
   ]
  },
  {
   "cell_type": "code",
   "execution_count": 13,
   "metadata": {
    "collapsed": true
   },
   "outputs": [],
   "source": [
    "# 自定义数据集\n",
    "addr = './input/xiqu_data_1_lab.pkl'\n",
    "labels_f = pickle.load(open(addr, \"rb\" ))\n",
    "\n",
    "addr = './input/xiqu_data_1.pkl' \n",
    "images_f = pickle.load(open(addr, \"rb\" ))"
   ]
  },
  {
   "cell_type": "code",
   "execution_count": 14,
   "metadata": {},
   "outputs": [
    {
     "data": {
      "text/plain": [
       "(1488, 80, 160, 3)"
      ]
     },
     "execution_count": 14,
     "metadata": {},
     "output_type": "execute_result"
    }
   ],
   "source": [
    "images_f.shape"
   ]
  },
  {
   "cell_type": "code",
   "execution_count": 15,
   "metadata": {},
   "outputs": [
    {
     "data": {
      "text/plain": [
       "(1488, 80, 160, 1)"
      ]
     },
     "execution_count": 15,
     "metadata": {},
     "output_type": "execute_result"
    }
   ],
   "source": [
    "labels_f.shape"
   ]
  },
  {
   "cell_type": "markdown",
   "metadata": {},
   "source": [
    "### 标签归一化"
   ]
  },
  {
   "cell_type": "code",
   "execution_count": 28,
   "metadata": {
    "collapsed": true
   },
   "outputs": [],
   "source": [
    "labels_f = labels_f / 255"
   ]
  },
  {
   "cell_type": "code",
   "execution_count": 29,
   "metadata": {
    "collapsed": true
   },
   "outputs": [],
   "source": [
    "# label_z = label_z / 255"
   ]
  },
  {
   "cell_type": "markdown",
   "metadata": {},
   "source": [
    "### 刷洗"
   ]
  },
  {
   "cell_type": "code",
   "execution_count": 30,
   "metadata": {
    "collapsed": true
   },
   "outputs": [],
   "source": [
    "train_images_z, label_z = shuffle(images_f, labels_f)"
   ]
  },
  {
   "cell_type": "markdown",
   "metadata": {},
   "source": [
    "### 切分"
   ]
  },
  {
   "cell_type": "code",
   "execution_count": 31,
   "metadata": {
    "collapsed": true
   },
   "outputs": [],
   "source": [
    "X_train_1, X_val_1, y_train_1, y_val_1 = train_test_split(train_images_z, label_z, test_size=0.1)"
   ]
  },
  {
   "cell_type": "code",
   "execution_count": 32,
   "metadata": {},
   "outputs": [
    {
     "data": {
      "text/plain": [
       "(1339, 80, 160, 3)"
      ]
     },
     "execution_count": 32,
     "metadata": {},
     "output_type": "execute_result"
    }
   ],
   "source": [
    "X_train_1.shape"
   ]
  },
  {
   "cell_type": "markdown",
   "metadata": {
    "collapsed": true
   },
   "source": [
    "### 加载数据2"
   ]
  },
  {
   "cell_type": "code",
   "execution_count": 33,
   "metadata": {
    "collapsed": true
   },
   "outputs": [],
   "source": [
    "## 加载网上训练集\n",
    "train_images_2 = pickle.load(open(\"./input/full_CNN_train.pkl\", \"rb\" ))\n",
    "\n",
    "labels_w = pickle.load(open(\"./input/train_labels.pkl\", \"rb\" ))\n",
    "\n",
    "train_images_w = np.array(train_images_2)"
   ]
  },
  {
   "cell_type": "code",
   "execution_count": 34,
   "metadata": {},
   "outputs": [
    {
     "data": {
      "text/plain": [
       "(12764, 80, 160, 1)"
      ]
     },
     "execution_count": 34,
     "metadata": {},
     "output_type": "execute_result"
    }
   ],
   "source": [
    "labels_w.shape"
   ]
  },
  {
   "cell_type": "code",
   "execution_count": 35,
   "metadata": {},
   "outputs": [
    {
     "data": {
      "text/plain": [
       "(12764, 80, 160, 3)"
      ]
     },
     "execution_count": 35,
     "metadata": {},
     "output_type": "execute_result"
    }
   ],
   "source": [
    "train_images_w.shape"
   ]
  },
  {
   "cell_type": "code",
   "execution_count": 36,
   "metadata": {},
   "outputs": [
    {
     "data": {
      "text/plain": [
       "<matplotlib.image.AxesImage at 0x7ff010dd3390>"
      ]
     },
     "execution_count": 36,
     "metadata": {},
     "output_type": "execute_result"
    },
    {
     "data": {
      "image/png": "[encoded data removed]",
      "text/plain": [
       "<matplotlib.figure.Figure at 0x7ff016076438>"
      ]
     },
     "metadata": {},
     "output_type": "display_data"
    }
   ],
   "source": [
    "# # 查看一下数据\n",
    "import matplotlib.pyplot as plt\n",
    "\n",
    "%matplotlib inline\n",
    "plt.imshow(train_images_w[692])"
   ]
  },
  {
   "cell_type": "code",
   "execution_count": 37,
   "metadata": {},
   "outputs": [
    {
     "data": {
      "text/plain": [
       "<matplotlib.image.AxesImage at 0x7ff010566ba8>"
      ]
     },
     "execution_count": 37,
     "metadata": {},
     "output_type": "execute_result"
    },
    {
     "data": {
      "image/png": "[encoded data removed]",
      "text/plain": [
       "<matplotlib.figure.Figure at 0x7ff010d9f080>"
      ]
     },
     "metadata": {},
     "output_type": "display_data"
    }
   ],
   "source": [
    "# 查看标签\n",
    "import matplotlib.pyplot as plt\n",
    "\n",
    "%matplotlib inline\n",
    "plt.imshow(labels_w[692].reshape(80,160))"
   ]
  },
  {
   "cell_type": "markdown",
   "metadata": {},
   "source": [
    "### 对标签进行归一化"
   ]
  },
  {
   "cell_type": "code",
   "execution_count": 38,
   "metadata": {
    "collapsed": true
   },
   "outputs": [],
   "source": [
    "labels_w = labels_w / 255"
   ]
  },
  {
   "cell_type": "code",
   "execution_count": 39,
   "metadata": {
    "collapsed": true
   },
   "outputs": [],
   "source": [
    "train_images_w, labels_w = shuffle(train_images_w, labels_w)"
   ]
  },
  {
   "cell_type": "code",
   "execution_count": 40,
   "metadata": {
    "collapsed": true
   },
   "outputs": [],
   "source": [
    "X_train_2, X_val_2, y_train_2, y_val_2 = train_test_split(train_images_w, labels_w, test_size=0.1)"
   ]
  },
  {
   "cell_type": "code",
   "execution_count": 41,
   "metadata": {},
   "outputs": [
    {
     "data": {
      "text/plain": [
       "(11487, 80, 160, 3)"
      ]
     },
     "execution_count": 41,
     "metadata": {},
     "output_type": "execute_result"
    }
   ],
   "source": [
    "X_train_2.shape"
   ]
  },
  {
   "cell_type": "markdown",
   "metadata": {},
   "source": [
    "### 合并数据集"
   ]
  },
  {
   "cell_type": "code",
   "execution_count": 42,
   "metadata": {
    "collapsed": true
   },
   "outputs": [],
   "source": [
    "# 把两部分数据合在一起\n",
    "X_train = np.concatenate((X_train_2,X_train_1))   \n",
    "X_val = np.concatenate((X_val_2,X_val_1))   \n",
    "y_train = np.concatenate((y_train_2,y_train_1))  \n",
    "y_val = np.concatenate((y_val_2,y_val_1))  "
   ]
  },
  {
   "cell_type": "code",
   "execution_count": 44,
   "metadata": {
    "collapsed": true
   },
   "outputs": [],
   "source": [
    "X_train, y_train = shuffle(X_train, y_train)\n",
    "X_val, y_val = shuffle(X_val, y_val)"
   ]
  },
  {
   "cell_type": "code",
   "execution_count": 49,
   "metadata": {
    "collapsed": true
   },
   "outputs": [],
   "source": [
    "batch_size = 128\n",
    "epochs = 40\n",
    "pool_size = (2, 2)\n",
    "input_shape = X_train.shape[1:]\n"
   ]
  },
  {
   "cell_type": "markdown",
   "metadata": {},
   "source": [
    "## 2.模型"
   ]
  },
  {
   "cell_type": "code",
   "execution_count": 50,
   "metadata": {
    "collapsed": true
   },
   "outputs": [],
   "source": [
    "model = Sequential()\n",
    "# batchnormalization，可以把过大或过小的信号进行归一化。有效避免上述问题，使得深度学习网络更容易训练。所以效果好。\n",
    "model.add(BatchNormalization(input_shape=input_shape))\n",
    "\n",
    "# Conv Layer 1\n",
    "model.add(Conv2D(8, (3, 3), padding='valid', strides=(1,1), activation = 'relu', name = 'Conv1'))\n",
    "\n",
    "# Conv Layer 2\n",
    "model.add(Conv2D(16, (3, 3), padding='valid', strides=(1,1), activation = 'relu', name = 'Conv2'))\n",
    "\n",
    "# Pooling 1\n",
    "model.add(MaxPooling2D(pool_size=pool_size))\n",
    "\n",
    "# Conv Layer 3\n",
    "model.add(Conv2D(16, (3, 3), padding='valid', strides=(1,1), activation = 'relu', name = 'Conv3'))\n",
    "model.add(Dropout(0.2))\n",
    "\n",
    "# Conv Layer 4\n",
    "model.add(Conv2D(32, (3, 3), padding='valid', strides=(1,1), activation = 'relu', name = 'Conv4'))\n",
    "model.add(Dropout(0.2))\n",
    "\n",
    "# Conv Layer 5\n",
    "model.add(Conv2D(32, (3, 3), padding='valid', strides=(1,1), activation = 'relu', name = 'Conv5'))\n",
    "model.add(Dropout(0.2))\n",
    "\n",
    "# Pooling 2\n",
    "model.add(MaxPooling2D(pool_size=pool_size))\n",
    "\n",
    "# Conv Layer 6\n",
    "model.add(Conv2D(64, (3, 3), padding='valid', strides=(1,1), activation = 'relu', name = 'Conv6'))\n",
    "model.add(Dropout(0.2))\n",
    "\n",
    "# Conv Layer 7\n",
    "model.add(Conv2D(64, (3, 3), padding='valid', strides=(1,1), activation = 'relu', name = 'Conv7'))\n",
    "model.add(Dropout(0.2))\n",
    "\n",
    "# Conv Layer 8\n",
    "model.add(Conv2D(128, (3, 3), padding='valid', strides=(1,1), activation = 'relu', name = 'Conv8'))\n",
    "model.add(Dropout(0.3))\n",
    "\n",
    "# Pooling 3\n",
    "model.add(MaxPooling2D(pool_size=pool_size))\n",
    "\n",
    "# Upsample 1\n",
    "model.add(UpSampling2D(size=pool_size))\n",
    "\n",
    "# Deconv 1\n",
    "model.add(Conv2DTranspose(128, (3, 3), padding='valid', strides=(1,1), activation = 'relu', name = 'Deconv1'))\n",
    "model.add(Dropout(0.3))\n",
    "\n",
    "# Deconv 2\n",
    "model.add(Conv2DTranspose(64, (3, 3), padding='valid', strides=(1,1), activation = 'relu', name = 'Deconv2'))\n",
    "model.add(Dropout(0.2))\n",
    "\n",
    "# Deconv 3\n",
    "model.add(Conv2DTranspose(64, (3, 3), padding='valid', strides=(1,1), activation = 'relu', name = 'Deconv3'))\n",
    "model.add(Dropout(0.2))\n",
    "\n",
    "# Upsample 2\n",
    "model.add(UpSampling2D(size=pool_size))\n",
    "\n",
    "# Deconv 4\n",
    "model.add(Conv2DTranspose(32, (3, 3), padding='valid', strides=(1,1), activation = 'relu', name = 'Deconv4'))\n",
    "model.add(Dropout(0.2))\n",
    "\n",
    "# Deconv 5\n",
    "model.add(Conv2DTranspose(32, (3, 3), padding='valid', strides=(1,1), activation = 'relu', name = 'Deconv5'))\n",
    "model.add(Dropout(0.2))\n",
    "\n",
    "# Deconv 6\n",
    "model.add(Conv2DTranspose(16, (3, 3), padding='valid', strides=(1,1) , activation = 'relu', name = 'Deconv6'))\n",
    "model.add(Dropout(0.2))\n",
    "\n",
    "# Upsample 3\n",
    "model.add(UpSampling2D(size=pool_size))\n",
    "\n",
    "# Deconv 7\n",
    "model.add(Conv2DTranspose(16, (3, 3), padding='valid', strides=(1,1), activation = 'relu', name = 'Deconv7'))\n",
    "\n",
    "# Final layer \n",
    "model.add(Conv2DTranspose(1, (3, 3), padding='valid', strides=(1,1), activation = 'relu', name = 'Final'))"
   ]
  },
  {
   "cell_type": "code",
   "execution_count": 51,
   "metadata": {
    "collapsed": true
   },
   "outputs": [],
   "source": [
    "# 图像数据增强\n",
    "datagen = ImageDataGenerator(channel_shift_range=0.2)\n",
    "datagen.fit(X_train)"
   ]
  },
  {
   "cell_type": "code",
   "execution_count": 52,
   "metadata": {
    "scrolled": false
   },
   "outputs": [
    {
     "name": "stdout",
     "output_type": "stream",
     "text": [
      "Epoch 1/40\n",
      "101/100 [==============================] - 19s 183ms/step - loss: 0.0581 - val_loss: 0.0386\n",
      "Epoch 2/40\n",
      "101/100 [==============================] - 17s 172ms/step - loss: 0.0197 - val_loss: 0.0181\n",
      "Epoch 3/40\n",
      "101/100 [==============================] - 17s 171ms/step - loss: 0.0142 - val_loss: 0.0126\n",
      "Epoch 4/40\n",
      "101/100 [==============================] - 18s 174ms/step - loss: 0.0121 - val_loss: 0.0112\n",
      "Epoch 5/40\n",
      "101/100 [==============================] - 17s 171ms/step - loss: 0.0112 - val_loss: 0.0099\n",
      "Epoch 6/40\n",
      "101/100 [==============================] - 18s 175ms/step - loss: 0.0105 - val_loss: 0.0095\n",
      "Epoch 7/40\n",
      "101/100 [==============================] - 18s 173ms/step - loss: 0.0100 - val_loss: 0.0099\n",
      "Epoch 8/40\n",
      "101/100 [==============================] - 17s 171ms/step - loss: 0.0099 - val_loss: 0.0087\n",
      "Epoch 9/40\n",
      "101/100 [==============================] - 17s 173ms/step - loss: 0.0094 - val_loss: 0.0088\n",
      "Epoch 10/40\n",
      "101/100 [==============================] - 17s 173ms/step - loss: 0.0091 - val_loss: 0.0084\n",
      "Epoch 11/40\n",
      "101/100 [==============================] - 17s 171ms/step - loss: 0.0090 - val_loss: 0.0078\n",
      "Epoch 12/40\n",
      "101/100 [==============================] - 18s 175ms/step - loss: 0.0087 - val_loss: 0.0078\n",
      "Epoch 13/40\n",
      "101/100 [==============================] - 17s 171ms/step - loss: 0.0084 - val_loss: 0.0078\n",
      "Epoch 14/40\n",
      "101/100 [==============================] - 18s 176ms/step - loss: 0.0082 - val_loss: 0.0076\n",
      "Epoch 15/40\n",
      "101/100 [==============================] - 17s 171ms/step - loss: 0.0080 - val_loss: 0.0079\n",
      "Epoch 16/40\n",
      "101/100 [==============================] - 17s 172ms/step - loss: 0.0081 - val_loss: 0.0073\n",
      "Epoch 17/40\n",
      "101/100 [==============================] - 18s 175ms/step - loss: 0.0077 - val_loss: 0.0068\n",
      "Epoch 18/40\n",
      "101/100 [==============================] - 18s 177ms/step - loss: 0.0070 - val_loss: 0.0066\n",
      "Epoch 19/40\n",
      "101/100 [==============================] - 17s 173ms/step - loss: 0.0068 - val_loss: 0.0056\n",
      "Epoch 20/40\n",
      "101/100 [==============================] - 18s 176ms/step - loss: 0.0063 - val_loss: 0.0061\n",
      "Epoch 21/40\n",
      "101/100 [==============================] - 17s 173ms/step - loss: 0.0062 - val_loss: 0.0060\n",
      "Epoch 22/40\n",
      "101/100 [==============================] - 17s 173ms/step - loss: 0.0061 - val_loss: 0.0055\n",
      "Epoch 23/40\n",
      "101/100 [==============================] - 17s 171ms/step - loss: 0.0057 - val_loss: 0.0052\n",
      "Epoch 24/40\n",
      "101/100 [==============================] - 17s 173ms/step - loss: 0.0058 - val_loss: 0.0054\n",
      "Epoch 25/40\n",
      "101/100 [==============================] - 17s 172ms/step - loss: 0.0058 - val_loss: 0.0050\n",
      "Epoch 26/40\n",
      "101/100 [==============================] - 17s 172ms/step - loss: 0.0056 - val_loss: 0.0051\n",
      "Epoch 27/40\n",
      "101/100 [==============================] - 17s 172ms/step - loss: 0.0055 - val_loss: 0.0052\n",
      "Epoch 28/40\n",
      "101/100 [==============================] - 18s 175ms/step - loss: 0.0053 - val_loss: 0.0048\n",
      "Epoch 29/40\n",
      "101/100 [==============================] - 17s 172ms/step - loss: 0.0053 - val_loss: 0.0053\n",
      "Epoch 30/40\n",
      "101/100 [==============================] - 18s 175ms/step - loss: 0.0053 - val_loss: 0.0047\n",
      "Epoch 31/40\n",
      "101/100 [==============================] - 17s 172ms/step - loss: 0.0051 - val_loss: 0.0049\n",
      "Epoch 32/40\n",
      "101/100 [==============================] - 18s 175ms/step - loss: 0.0050 - val_loss: 0.0046\n",
      "Epoch 33/40\n",
      "101/100 [==============================] - 18s 176ms/step - loss: 0.0050 - val_loss: 0.0050\n",
      "Epoch 34/40\n",
      "101/100 [==============================] - 18s 174ms/step - loss: 0.0050 - val_loss: 0.0043\n",
      "Epoch 35/40\n",
      "101/100 [==============================] - 18s 175ms/step - loss: 0.0050 - val_loss: 0.0043\n",
      "Epoch 36/40\n",
      "101/100 [==============================] - 18s 176ms/step - loss: 0.0046 - val_loss: 0.0043\n",
      "Epoch 37/40\n",
      "101/100 [==============================] - 18s 175ms/step - loss: 0.0046 - val_loss: 0.0043\n",
      "Epoch 38/40\n",
      "101/100 [==============================] - 17s 173ms/step - loss: 0.0046 - val_loss: 0.0042\n",
      "Epoch 39/40\n",
      "101/100 [==============================] - 18s 177ms/step - loss: 0.0045 - val_loss: 0.0046\n",
      "Epoch 40/40\n",
      "101/100 [==============================] - 18s 175ms/step - loss: 0.0044 - val_loss: 0.0038\n",
      "_________________________________________________________________\n",
      "Layer (type)                 Output Shape              Param #   \n",
      "=================================================================\n",
      "batch_normalization_2 (Batch (None, 80, 160, 3)        12        \n",
      "_________________________________________________________________\n",
      "Conv1 (Conv2D)               (None, 78, 158, 8)        224       \n",
      "_________________________________________________________________\n",
      "Conv2 (Conv2D)               (None, 76, 156, 16)       1168      \n",
      "_________________________________________________________________\n",
      "max_pooling2d_4 (MaxPooling2 (None, 38, 78, 16)        0         \n",
      "_________________________________________________________________\n",
      "Conv3 (Conv2D)               (None, 36, 76, 16)        2320      \n",
      "_________________________________________________________________\n",
      "dropout_13 (Dropout)         (None, 36, 76, 16)        0         \n",
      "_________________________________________________________________\n",
      "Conv4 (Conv2D)               (None, 34, 74, 32)        4640      \n",
      "_________________________________________________________________\n",
      "dropout_14 (Dropout)         (None, 34, 74, 32)        0         \n",
      "_________________________________________________________________\n",
      "Conv5 (Conv2D)               (None, 32, 72, 32)        9248      \n",
      "_________________________________________________________________\n",
      "dropout_15 (Dropout)         (None, 32, 72, 32)        0         \n",
      "_________________________________________________________________\n",
      "max_pooling2d_5 (MaxPooling2 (None, 16, 36, 32)        0         \n",
      "_________________________________________________________________\n",
      "Conv6 (Conv2D)               (None, 14, 34, 64)        18496     \n",
      "_________________________________________________________________\n",
      "dropout_16 (Dropout)         (None, 14, 34, 64)        0         \n",
      "_________________________________________________________________\n",
      "Conv7 (Conv2D)               (None, 12, 32, 64)        36928     \n",
      "_________________________________________________________________\n",
      "dropout_17 (Dropout)         (None, 12, 32, 64)        0         \n",
      "_________________________________________________________________\n",
      "Conv8 (Conv2D)               (None, 10, 30, 128)       73856     \n",
      "_________________________________________________________________\n",
      "dropout_18 (Dropout)         (None, 10, 30, 128)       0         \n",
      "_________________________________________________________________\n",
      "max_pooling2d_6 (MaxPooling2 (None, 5, 15, 128)        0         \n",
      "_________________________________________________________________\n",
      "up_sampling2d_4 (UpSampling2 (None, 10, 30, 128)       0         \n",
      "_________________________________________________________________\n",
      "Deconv1 (Conv2DTranspose)    (None, 12, 32, 128)       147584    \n",
      "_________________________________________________________________\n",
      "dropout_19 (Dropout)         (None, 12, 32, 128)       0         \n",
      "_________________________________________________________________\n",
      "Deconv2 (Conv2DTranspose)    (None, 14, 34, 64)        73792     \n",
      "_________________________________________________________________\n",
      "dropout_20 (Dropout)         (None, 14, 34, 64)        0         \n",
      "_________________________________________________________________\n",
      "Deconv3 (Conv2DTranspose)    (None, 16, 36, 64)        36928     \n",
      "_________________________________________________________________\n",
      "dropout_21 (Dropout)         (None, 16, 36, 64)        0         \n",
      "_________________________________________________________________\n",
      "up_sampling2d_5 (UpSampling2 (None, 32, 72, 64)        0         \n",
      "_________________________________________________________________\n",
      "Deconv4 (Conv2DTranspose)    (None, 34, 74, 32)        18464     \n",
      "_________________________________________________________________\n",
      "dropout_22 (Dropout)         (None, 34, 74, 32)        0         \n",
      "_________________________________________________________________\n",
      "Deconv5 (Conv2DTranspose)    (None, 36, 76, 32)        9248      \n",
      "_________________________________________________________________\n",
      "dropout_23 (Dropout)         (None, 36, 76, 32)        0         \n",
      "_________________________________________________________________\n",
      "Deconv6 (Conv2DTranspose)    (None, 38, 78, 16)        4624      \n",
      "_________________________________________________________________\n",
      "dropout_24 (Dropout)         (None, 38, 78, 16)        0         \n",
      "_________________________________________________________________\n",
      "up_sampling2d_6 (UpSampling2 (None, 76, 156, 16)       0         \n",
      "_________________________________________________________________\n",
      "Deconv7 (Conv2DTranspose)    (None, 78, 158, 16)       2320      \n",
      "_________________________________________________________________\n",
      "Final (Conv2DTranspose)      (None, 80, 160, 1)        145       \n",
      "=================================================================\n",
      "Total params: 439,997\n",
      "Trainable params: 0\n",
      "Non-trainable params: 439,997\n",
      "_________________________________________________________________\n"
     ]
    }
   ],
   "source": [
    "model.compile(optimizer='Adam', loss='mean_squared_error')     \n",
    "\n",
    "\n",
    "model.fit_generator(datagen.flow(X_train, y_train, batch_size=batch_size), steps_per_epoch=len(X_train)/batch_size,\n",
    "epochs=epochs, verbose=1, validation_data=(X_val, y_val))\n",
    "\n",
    "# 冻结网络参数更新\n",
    "model.trainable = False\n",
    "model.compile(optimizer='Adam', loss='mean_squared_error')\n",
    "\n",
    "# 保存模型\n",
    "model.save('model.h5')\n",
    " \n",
    "# 展示模型\n",
    "model.summary()"
   ]
  },
  {
   "cell_type": "code",
   "execution_count": null,
   "metadata": {
    "collapsed": true
   },
   "outputs": [],
   "source": []
  }
 ],
 "metadata": {
  "kernelspec": {
   "display_name": "Python 3",
   "language": "python",
   "name": "python3"
  },
  "language_info": {
   "codemirror_mode": {
    "name": "ipython",
    "version": 3
   },
   "file_extension": ".py",
   "mimetype": "text/x-python",
   "name": "python",
   "nbconvert_exporter": "python",
   "pygments_lexer": "ipython3",
   "version": "3.6.3"
  }
 },
 "nbformat": 4,
 "nbformat_minor": 2
}
