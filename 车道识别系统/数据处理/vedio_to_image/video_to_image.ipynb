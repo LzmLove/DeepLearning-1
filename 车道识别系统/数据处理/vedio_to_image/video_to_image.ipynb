{
 "cells": [
  {
   "cell_type": "markdown",
   "metadata": {},
   "source": [
    "# 深度学习训练数据打标签过程"
   ]
  },
  {
   "cell_type": "markdown",
   "metadata": {},
   "source": [
    "* 为了获取大量的图片训练数据，在采集数据的过程中常用视频的方式采集数据，但对于深度学习，训练的过程需要很多的有有标签的数据，这篇文章主要是解决视频文件转换成图片文件，并加标签，最后把数据存储到pkl文件中，为后续深度学习提供数据。"
   ]
  },
  {
   "cell_type": "markdown",
   "metadata": {},
   "source": [
    "## 1. video to image"
   ]
  },
  {
   "cell_type": "markdown",
   "metadata": {},
   "source": [
    "* 这个应用，主要是把视频切分成图片，并保存到本地，可以自定义切分的时间间隔；\n",
    "* 在深度学习中，由于场景的需要，有时候需要自己动手去做图片的标注，但是我们在采取数据的时候，多把数据保存成视频的形式，对于视频的信息不好进行标注。对于视频转换成图片，可以通过播放视频，然后通过截图的方式把所需要的图片保存到本地，但是这样子的话，工作效率很很低。所以，为解决这个麻烦的过程，我先把视频的数据一帧一帧的读取进来，并生成成图片保存到本地，节省了大量的时间。"
   ]
  },
  {
   "cell_type": "markdown",
   "metadata": {},
   "source": [
    "### 具体代码实现过程"
   ]
  },
  {
   "cell_type": "code",
   "execution_count": 1,
   "metadata": {
    "collapsed": true
   },
   "outputs": [],
   "source": [
    "# 导入所需要的库\n",
    "import cv2\n",
    "import numpy as np"
   ]
  },
  {
   "cell_type": "code",
   "execution_count": 2,
   "metadata": {
    "collapsed": true
   },
   "outputs": [],
   "source": [
    "# 定义保存图片函数\n",
    "# image:要保存的图片名字\n",
    "# addr；图片地址与相片名字的前部分\n",
    "# num: 相片，名字的后缀。int 类型\n",
    "def save_image(image,addr,num):\n",
    "    address = addr + str(num)+ '.jpg'\n",
    "    cv2.imwrite(address,image)"
   ]
  },
  {
   "cell_type": "code",
   "execution_count": 3,
   "metadata": {
    "collapsed": true
   },
   "outputs": [],
   "source": [
    "# 读取视频文件\n",
    "videoCapture = cv2.VideoCapture(\"./input/xipaod/video_9.mp4\")\n",
    "# 通过摄像头的方式\n",
    "# videoCapture=cv2.VideoCapture(1)"
   ]
  },
  {
   "cell_type": "code",
   "execution_count": 4,
   "metadata": {
    "scrolled": false
   },
   "outputs": [
    {
     "name": "stdout",
     "output_type": "stream",
     "text": [
      "save image: 1\n",
      "save image: 2\n",
      "save image: 3\n",
      "save image: 4\n",
      "save image: 5\n",
      "save image: 6\n",
      "save image: 7\n",
      "save image: 8\n",
      "save image: 9\n",
      "save image: 10\n",
      "save image: 11\n",
      "save image: 12\n",
      "save image: 13\n",
      "save image: 14\n",
      "save image: 15\n",
      "save image: 16\n",
      "save image: 17\n",
      "save image: 18\n",
      "save image: 19\n",
      "save image: 20\n",
      "save image: 21\n",
      "save image: 22\n",
      "save image: 23\n",
      "save image: 24\n",
      "save image: 25\n",
      "save image: 26\n",
      "save image: 27\n",
      "save image: 28\n",
      "save image: 29\n",
      "save image: 30\n",
      "save image: 31\n",
      "save image: 32\n",
      "save image: 33\n",
      "save image: 34\n",
      "save image: 35\n",
      "save image: 36\n",
      "save image: 37\n",
      "save image: 38\n",
      "save image: 39\n",
      "save image: 40\n",
      "save image: 41\n",
      "save image: 42\n",
      "save image: 43\n",
      "save image: 44\n",
      "save image: 45\n",
      "save image: 46\n",
      "save image: 47\n",
      "save image: 48\n",
      "save image: 49\n",
      "save image: 50\n",
      "save image: 51\n",
      "save image: 52\n",
      "save image: 53\n",
      "save image: 54\n",
      "save image: 55\n",
      "save image: 56\n",
      "save image: 57\n",
      "save image: 58\n",
      "save image: 59\n",
      "save image: 60\n",
      "save image: 61\n",
      "save image: 62\n",
      "save image: 63\n",
      "save image: 64\n",
      "save image: 65\n",
      "save image: 66\n",
      "save image: 67\n",
      "save image: 68\n",
      "save image: 69\n",
      "save image: 70\n",
      "save image: 71\n",
      "save image: 72\n",
      "save image: 73\n",
      "save image: 74\n",
      "save image: 75\n",
      "save image: 76\n",
      "save image: 77\n",
      "save image: 78\n",
      "save image: 79\n",
      "save image: 80\n",
      "save image: 81\n",
      "save image: 82\n",
      "save image: 83\n",
      "save image: 84\n",
      "save image: 85\n",
      "save image: 86\n",
      "save image: 87\n",
      "save image: 88\n",
      "save image: 89\n",
      "save image: 90\n",
      "save image: 91\n",
      "save image: 92\n",
      "save image: 93\n",
      "save image: 94\n",
      "save image: 95\n",
      "save image: 96\n",
      "save image: 97\n",
      "save image: 98\n",
      "save image: 99\n",
      "save image: 100\n",
      "save image: 101\n",
      "save image: 102\n",
      "save image: 103\n",
      "save image: 104\n",
      "save image: 105\n",
      "save image: 106\n",
      "save image: 107\n",
      "save image: 108\n",
      "save image: 109\n",
      "save image: 110\n",
      "save image: 111\n",
      "save image: 112\n",
      "save image: 113\n",
      "save image: 114\n",
      "save image: 115\n",
      "save image: 116\n",
      "save image: 117\n",
      "save image: 118\n",
      "save image: 119\n",
      "save image: 120\n",
      "save image: 121\n",
      "save image: 122\n",
      "save image: 123\n",
      "save image: 124\n",
      "save image: 125\n",
      "save image: 126\n",
      "save image: 127\n",
      "save image: 128\n",
      "save image: 129\n",
      "save image: 130\n",
      "save image: 131\n",
      "save image: 132\n",
      "save image: 133\n",
      "save image: 134\n",
      "save image: 135\n",
      "save image: 136\n",
      "save image: 137\n",
      "save image: 138\n",
      "save image: 139\n",
      "save image: 140\n",
      "save image: 141\n",
      "save image: 142\n",
      "save image: 143\n",
      "save image: 144\n",
      "save image: 145\n",
      "save image: 146\n",
      "save image: 147\n",
      "save image: 148\n",
      "save image: 149\n",
      "save image: 150\n",
      "save image: 151\n",
      "save image: 152\n",
      "save image: 153\n",
      "save image: 154\n",
      "save image: 155\n",
      "save image: 156\n",
      "save image: 157\n",
      "save image: 158\n",
      "save image: 159\n",
      "save image: 160\n",
      "save image: 161\n",
      "save image: 162\n",
      "save image: 163\n",
      "save image: 164\n",
      "save image: 165\n",
      "save image: 166\n",
      "save image: 167\n",
      "save image: 168\n",
      "save image: 169\n",
      "save image: 170\n",
      "save image: 171\n",
      "save image: 172\n",
      "save image: 173\n",
      "save image: 174\n",
      "save image: 175\n",
      "save image: 176\n",
      "save image: 177\n",
      "save image: 178\n",
      "save image: 179\n",
      "save image: 180\n",
      "save image: 181\n",
      "save image: 182\n",
      "save image: 183\n",
      "save image: 184\n",
      "save image: 185\n",
      "save image: 186\n",
      "save image: 187\n",
      "save image: 188\n",
      "save image: 189\n",
      "save image: 190\n",
      "save image: 191\n",
      "save image: 192\n",
      "save image: 193\n",
      "save image: 194\n",
      "save image: 195\n",
      "save image: 196\n",
      "save image: 197\n",
      "save image: 198\n",
      "save image: 199\n",
      "save image: 200\n",
      "save image: 201\n",
      "save image: 202\n",
      "save image: 203\n",
      "save image: 204\n",
      "save image: 205\n",
      "save image: 206\n",
      "save image: 207\n",
      "save image: 208\n",
      "save image: 209\n",
      "save image: 210\n",
      "save image: 211\n",
      "save image: 212\n",
      "save image: 213\n",
      "save image: 214\n",
      "save image: 215\n",
      "save image: 216\n",
      "save image: 217\n",
      "save image: 218\n",
      "save image: 219\n",
      "save image: 220\n",
      "save image: 221\n",
      "save image: 222\n",
      "save image: 223\n",
      "save image: 224\n",
      "save image: 225\n",
      "save image: 226\n",
      "save image: 227\n",
      "save image: 228\n",
      "save image: 229\n",
      "save image: 230\n",
      "save image: 231\n",
      "save image: 232\n",
      "save image: 233\n",
      "save image: 234\n",
      "save image: 235\n",
      "save image: 236\n",
      "save image: 237\n",
      "save image: 238\n",
      "save image: 239\n",
      "save image: 240\n",
      "save image: 241\n",
      "save image: 242\n",
      "save image: 243\n",
      "save image: 244\n",
      "save image: 245\n",
      "save image: 246\n",
      "save image: 247\n",
      "save image: 248\n",
      "save image: 249\n",
      "save image: 250\n",
      "save image: 251\n",
      "save image: 252\n",
      "save image: 253\n",
      "save image: 254\n",
      "save image: 255\n",
      "save image: 256\n",
      "save image: 257\n",
      "save image: 258\n",
      "save image: 259\n",
      "save image: 260\n",
      "save image: 261\n",
      "save image: 262\n",
      "save image: 263\n",
      "save image: 264\n",
      "save image: 265\n",
      "save image: 266\n",
      "save image: 267\n",
      "save image: 268\n",
      "save image: 269\n",
      "save image: 270\n"
     ]
    }
   ],
   "source": [
    "#读帧\n",
    "success, frame = videoCapture.read()\n",
    "i = j = 0\n",
    "while success :\n",
    "    i = i + 1\n",
    "    if i%20 == 0:\n",
    "        j = j + 1\n",
    "        save_image(frame,'./output/imag_9/imag_9_',j)\n",
    "        if success:\n",
    "            print('save image:',j)\n",
    "    success, frame = videoCapture.read()"
   ]
  },
  {
   "cell_type": "markdown",
   "metadata": {},
   "source": [
    "## 2. 对于生成的图片添加label，并保存成pkl格式\n",
    "* 在这里只选择两张图片进行举例。"
   ]
  },
  {
   "cell_type": "code",
   "execution_count": null,
   "metadata": {
    "collapsed": true
   },
   "outputs": [],
   "source": [
    "import numpy as np\n",
    "from PIL import Image\n",
    "import pickle\n",
    "import matplotlib.pyplot as plt\n",
    "%matplotlib inline"
   ]
  },
  {
   "cell_type": "markdown",
   "metadata": {},
   "source": [
    "### 2.1 读取图片"
   ]
  },
  {
   "cell_type": "code",
   "execution_count": null,
   "metadata": {
    "collapsed": true
   },
   "outputs": [],
   "source": [
    "img_640 = Image.open('./output/img_640.jpg')\n",
    "img_910 = Image.open('./output/img_910.jpg')"
   ]
  },
  {
   "cell_type": "code",
   "execution_count": null,
   "metadata": {
    "collapsed": true
   },
   "outputs": [],
   "source": [
    "# 显示图片\n",
    "plt.imshow(img_640)"
   ]
  },
  {
   "cell_type": "markdown",
   "metadata": {},
   "source": [
    "### 2.2 把图片数据转换成numpy.ndarray"
   ]
  },
  {
   "cell_type": "code",
   "execution_count": null,
   "metadata": {
    "collapsed": true
   },
   "outputs": [],
   "source": [
    "img_640_n = np.array(img_640)\n",
    "img_910_n = np.array(img_910)"
   ]
  },
  {
   "cell_type": "code",
   "execution_count": null,
   "metadata": {
    "collapsed": true
   },
   "outputs": [],
   "source": [
    "type(img_640_n)"
   ]
  },
  {
   "cell_type": "markdown",
   "metadata": {},
   "source": [
    "## 2.3 对数据进行保存"
   ]
  },
  {
   "cell_type": "code",
   "execution_count": null,
   "metadata": {
    "collapsed": true
   },
   "outputs": [],
   "source": [
    "# 创建一个空list，用于存储图像数据因为是两张图片说以创建2个(480, 640, 3)的矩阵。\n",
    "image_data = []"
   ]
  },
  {
   "cell_type": "code",
   "execution_count": null,
   "metadata": {
    "collapsed": true
   },
   "outputs": [],
   "source": [
    "# 把数据存放进来\n",
    "image_data.append(img_640_n)\n",
    "image_data.append(imgh_910_n)"
   ]
  },
  {
   "cell_type": "code",
   "execution_count": null,
   "metadata": {
    "collapsed": true
   },
   "outputs": [],
   "source": [
    "# 添加标签，假设这两张图片是两个类别，把他们标注为类型1和2\n",
    "image_data_label = np.empty(2)\n",
    "\n",
    "image_data_label[0] = 1\n",
    "image_data_label[1] = 2"
   ]
  },
  {
   "cell_type": "code",
   "execution_count": null,
   "metadata": {
    "collapsed": true
   },
   "outputs": [],
   "source": [
    "# 把标签的类型转换成int类型,为了方便出来也把data转换成numpy.ndarray类型\n",
    "image_data = np.array(image_data)\n",
    "image_data_label=image_data_label.astype(np.int)\n",
    "image_data_label"
   ]
  },
  {
   "cell_type": "code",
   "execution_count": null,
   "metadata": {
    "collapsed": true
   },
   "outputs": [],
   "source": [
    "plt.imshow(image_data[1])"
   ]
  },
  {
   "cell_type": "markdown",
   "metadata": {},
   "source": [
    "### 2.4 把数据保存到pkl文件中"
   ]
  },
  {
   "cell_type": "code",
   "execution_count": null,
   "metadata": {
    "collapsed": true
   },
   "outputs": [],
   "source": [
    "# 把数据合并成一个元组进行保存\n",
    "train_data = (image_data,image_data_label)"
   ]
  },
  {
   "cell_type": "code",
   "execution_count": null,
   "metadata": {
    "collapsed": true
   },
   "outputs": [],
   "source": [
    "# 把数据写入pkl文件中\n",
    "write_file=open('./input/train_data.pkl','wb')  \n",
    "pickle.dump(train_data,write_file)  \n",
    "write_file.close()"
   ]
  },
  {
   "cell_type": "markdown",
   "metadata": {},
   "source": [
    "## 3.读取图片标签和数据"
   ]
  },
  {
   "cell_type": "code",
   "execution_count": null,
   "metadata": {
    "collapsed": true
   },
   "outputs": [],
   "source": [
    "# 从pkl文件中读取图片数据和标签\n",
    "read_file=open('./input/train_data.pkl','rb')  \n",
    "\n",
    "(train_data,lab_data)=pickle.load(read_file)\n",
    "read_file.close() \n"
   ]
  },
  {
   "cell_type": "code",
   "execution_count": null,
   "metadata": {
    "collapsed": true
   },
   "outputs": [],
   "source": [
    "# 查看读取出来的数据\n",
    "train_data.shape"
   ]
  },
  {
   "cell_type": "code",
   "execution_count": null,
   "metadata": {
    "collapsed": true
   },
   "outputs": [],
   "source": [
    "lab_data"
   ]
  },
  {
   "cell_type": "code",
   "execution_count": null,
   "metadata": {
    "collapsed": true
   },
   "outputs": [],
   "source": [
    "plt.imshow(train_data[0])"
   ]
  },
  {
   "cell_type": "markdown",
   "metadata": {},
   "source": [
    "* 到这里就完成了把图片加标签后存储与读取，为后续神经网络数据的输入做准备，当我们需要数据的时候，把pkl文件加载进来就可以。"
   ]
  }
 ],
 "metadata": {
  "kernelspec": {
   "display_name": "Python 3",
   "language": "python",
   "name": "python3"
  },
  "language_info": {
   "codemirror_mode": {
    "name": "ipython",
    "version": 3
   },
   "file_extension": ".py",
   "mimetype": "text/x-python",
   "name": "python",
   "nbconvert_exporter": "python",
   "pygments_lexer": "ipython3",
   "version": "3.6.3"
  }
 },
 "nbformat": 4,
 "nbformat_minor": 2
}
