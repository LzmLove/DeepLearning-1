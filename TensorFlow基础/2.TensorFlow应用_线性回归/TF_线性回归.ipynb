{
 "cells": [
  {
   "cell_type": "markdown",
   "metadata": {},
   "source": [
    "# 线性回归\n",
    "TensorFlow在线性回归中的应用\n",
    "- 首先随机生成某条直线范围内的散点图\n",
    "- 再通过TensorFlow拟合这个图上的点"
   ]
  },
  {
   "cell_type": "markdown",
   "metadata": {},
   "source": [
    "## 1.随机某条直线范围内的点"
   ]
  },
  {
   "cell_type": "code",
   "execution_count": 1,
   "metadata": {},
   "outputs": [
    {
     "data": {
      "image/png": "[encoded data removed]",
      "text/plain": [
       "<matplotlib.figure.Figure at 0x16636be5e10>"
      ]
     },
     "metadata": {},
     "output_type": "display_data"
    }
   ],
   "source": [
    "import numpy as np\n",
    "import tensorflow as tf\n",
    "import matplotlib.pyplot as plt\n",
    "\n",
    "# 随机生成1000个点，围绕在y=x+0.5的直线周围\n",
    "num_points = 1000\n",
    "vectors_set = []\n",
    "for i in range(num_points):\n",
    "    x1 = np.random.normal(0.0, 0.55)\n",
    "    y1 = x1 + 0.5 + np.random.normal(0.0, 0.5)\n",
    "    vectors_set.append([x1, y1])\n",
    "\n",
    "# 生成一些样本\n",
    "x_data = [v[0] for v in vectors_set]\n",
    "y_data = [v[1] for v in vectors_set]\n",
    "\n",
    "plt.scatter(x_data,y_data,c='b')\n",
    "plt.show()"
   ]
  },
  {
   "cell_type": "markdown",
   "metadata": {},
   "source": [
    "## 2.构建回归模型"
   ]
  },
  {
   "cell_type": "markdown",
   "metadata": {},
   "source": [
    "### 2.1 定义一些算子"
   ]
  },
  {
   "cell_type": "code",
   "execution_count": 2,
   "metadata": {},
   "outputs": [],
   "source": [
    "# 生成1维的W矩阵，取值是[-1,1]之间的随机数，[1]表示在-1到1之间选择一个数\n",
    "W = tf.Variable(tf.random_uniform([1], -1.0, 1.0), name='W')\n",
    "# 生成1维的b矩阵，初始值是0\n",
    "b = tf.Variable(tf.zeros([1]), name='b')\n",
    "# 经过计算得出预估值y\n",
    "y = W * x_data + b\n",
    "\n",
    "# 以预估值y和实际值y_data之间的均方误差作为损失\n",
    "loss = tf.reduce_mean(tf.square(y - y_data), name='loss')\n",
    "# 采用梯度下降法来优化参数\n",
    "optimizer = tf.train.GradientDescentOptimizer(0.5)\n",
    "# 训练的过程就是最小化这个误差值\n",
    "train = optimizer.minimize(loss, name='train')"
   ]
  },
  {
   "cell_type": "markdown",
   "metadata": {},
   "source": [
    "## 2.2 创建对话"
   ]
  },
  {
   "cell_type": "code",
   "execution_count": 8,
   "metadata": {},
   "outputs": [
    {
     "name": "stdout",
     "output_type": "stream",
     "text": [
      "W = [-0.24273562] b = [ 0.] lossess.run(b)s = 1.02339\n",
      "W = [ 0.17196918] b = [ 0.5103417] loss = 0.478427\n",
      "W = [ 0.44680232] b = [ 0.5075236] loss = 0.352186\n",
      "W = [ 0.63125718] b = [ 0.50565594] loss = 0.295322\n",
      "W = [ 0.75505424] b = [ 0.50440252] loss = 0.269708\n",
      "W = [ 0.83814079] b = [ 0.5035612] loss = 0.25817\n",
      "W = [ 0.89390445] b = [ 0.50299662] loss = 0.252973\n",
      "W = [ 0.93133026] b = [ 0.50261766] loss = 0.250632\n",
      "W = [ 0.95644867] b = [ 0.50236332] loss = 0.249577\n",
      "W = [ 0.97330689] b = [ 0.50219268] loss = 0.249102\n",
      "W = [ 0.98462135] b = [ 0.50207812] loss = 0.248888\n",
      "W = [ 0.99221504] b = [ 0.50200123] loss = 0.248792\n",
      "W = [ 0.99731153] b = [ 0.50194961] loss = 0.248749\n",
      "W = [ 1.00073206] b = [ 0.50191498] loss = 0.248729\n",
      "W = [ 1.0030278] b = [ 0.50189173] loss = 0.24872\n",
      "W = [ 1.00456858] b = [ 0.50187612] loss = 0.248716\n"
     ]
    }
   ],
   "source": [
    "sess = tf.Session()\n",
    "\n",
    "# 初始化变量\n",
    "init = tf.global_variables_initializer()\n",
    "sess.run(init)\n",
    "\n",
    "# 初始化的W和b是多少\n",
    "print(\"W =\", sess.run(W), \"b =\",sess.run(b), \"lossess.run(b)s =\", sess.run(loss))\n",
    "# 执行15次训练\n",
    "for step in range(15):\n",
    "    sess.run(train)\n",
    "    # 输出训练好的W和b\n",
    "    print (\"W =\", sess.run(W), \"b =\", sess.run(b), \"loss =\", sess.run(loss))"
   ]
  },
  {
   "cell_type": "markdown",
   "metadata": {},
   "source": [
    "通过结构可以看出：w接近1，b接近0.5。"
   ]
  },
  {
   "cell_type": "markdown",
   "metadata": {},
   "source": [
    "## 3 绘制曲线"
   ]
  },
  {
   "cell_type": "code",
   "execution_count": 10,
   "metadata": {},
   "outputs": [
    {
     "data": {
      "image/png": "[encoded data removed]",
      "text/plain": [
       "<matplotlib.figure.Figure at 0x16638938a58>"
      ]
     },
     "metadata": {},
     "output_type": "display_data"
    }
   ],
   "source": [
    "plt.scatter(x_data,y_data,c='b')\n",
    "plt.plot(x_data,sess.run(W)*x_data+sess.run(b),c = 'r')\n",
    "plt.show()"
   ]
  },
  {
   "cell_type": "code",
   "execution_count": null,
   "metadata": {
    "collapsed": true
   },
   "outputs": [],
   "source": []
  }
 ],
 "metadata": {
  "anaconda-cloud": {},
  "kernelspec": {
   "display_name": "Python 3",
   "language": "python",
   "name": "python3"
  },
  "language_info": {
   "codemirror_mode": {
    "name": "ipython",
    "version": 3
   },
   "file_extension": ".py",
   "mimetype": "text/x-python",
   "name": "python",
   "nbconvert_exporter": "python",
   "pygments_lexer": "ipython3",
   "version": "3.6.3"
  }
 },
 "nbformat": 4,
 "nbformat_minor": 1
}
